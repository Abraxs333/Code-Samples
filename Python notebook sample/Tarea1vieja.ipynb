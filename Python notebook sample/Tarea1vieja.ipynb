{
 "cells": [
  {
   "cell_type": "markdown",
   "metadata": {},
   "source": [
    "# Introducción a la Ciencia de Datos y al Aprendizaje Estadístico (ML)\n",
    "\n",
    "## Tarea 1\n",
    "\n",
    "Instrucciones: si no te sobra el tiempo, escoge cuatro de los ocho ejercicios y resuélvelos (si logras resolver el ejercicio 8 por ti mismo recibirás la distinción de \"Python Master\" la próxima clase ). 🐍\n",
    "Si te sobra el tiempo y te interesa mucho el curso resuélvelos TODOS.\n",
    "\n",
    "P.D. a mí, que estoy familiarizado con Python, me ha tomado 20 minutos resolver del problema 1 al 7, al alumno menos experimentado debería de tomarle el triple de tiempo resolver la misma cantidad de problemas, es decir, si solucionas sólo del problema 1 al 7 debería de tomarte, en promedio, una hora. Si sólo vas a resolver 4 de los 8, invertirás aún menos tiempo en esta tarea. \n",
    "\n",
    "P.D. 2. el ejercicio 8 es más complejo: la primera vez que lo intenté me tomó una hora resolverlo.\n"
   ]
  },
  {
   "cell_type": "markdown",
   "metadata": {},
   "source": [
    "1. ¿Recuerdas la función Propina que vimos durante la clase? Explica línea por línea lo que está haciendo el código. Utiliza # para realizar tus comentarios."
   ]
  },
  {
   "cell_type": "code",
   "execution_count": 33,
   "metadata": {},
   "outputs": [],
   "source": [
    "def calcula_propina(extra = 0): # define funcion\n",
    "    cuenta =  float(input('Cuanto es de cuenta?:')) # pide valor de cuenta\n",
    "    servicio = input('Como estuvo el servicio? \\nElige un numero 2 = bueno, 1 = regular, 0 = malo \\n') # pide opinion de servico\n",
    "    perc_prop = 'nada' # declra variable\n",
    "    if int(servicio) == 0: # inicia condicional\n",
    "        perc_prop = 0.1 # diez por ciernto\n",
    "    elif int(servicio) == 1: # segudna opcion\n",
    "        perc_prop = 0.15 # 15%\n",
    "    elif int(servicio) == 2: # tercera opcion\n",
    "        perc_prop = 0.2 # 20%\n",
    "    else: # en caso de que el usuario la cague\n",
    "        print('revisa que la opcion sea la correcta')\n",
    "\n",
    "    propina =  round(cuenta * perc_prop,3) # calcula la propina\n",
    "    print('Esto es de propina',propina) # le dice al usuario cuanto es de propina\n",
    "    cuenta =  cuenta + propina + extra # calcula el total con propina\n",
    "    print('Esto pagaras:',cuenta) # le dice al usuario el total con propina"
   ]
  },
  {
   "cell_type": "markdown",
   "metadata": {},
   "source": [
    "2.Para ser digno de tomar el curso \"Aprendizaje Estadístico y Análisis de Datos\" del M. en C. Carlos Malanche Flores, debes de ser capaz de adivinar el resultado de la siguiente instrucción:  l = ['data'+str(s)+'.txt' for s in range(0,5)].  Adivina lo que hará el código ejecutando partes del mismo y luego córrelo completo para comprobar su adivinaste bien o mal. ¿Eres digno de tomar este prestigioso curso en Facultad de Ciencias? Hint: para darte una mejor idea de qué hace el código prueba ejecutando lo siguiente:"
   ]
  },
  {
   "cell_type": "code",
   "execution_count": 1,
   "metadata": {
    "scrolled": true
   },
   "outputs": [
    {
     "name": "stdout",
     "output_type": "stream",
     "text": [
      "0\n",
      "1\n",
      "2\n",
      "3\n",
      "4\n"
     ]
    }
   ],
   "source": [
    "for s in range(0,5):\n",
    "    print(s)"
   ]
  },
  {
   "cell_type": "markdown",
   "metadata": {},
   "source": [
    "No entiendo cual era el puto ejercicio"
   ]
  },
  {
   "cell_type": "code",
   "execution_count": 4,
   "metadata": {},
   "outputs": [
    {
     "data": {
      "text/plain": [
       "['data0.txt', 'data1.txt', 'data2.txt', 'data3.txt', 'data4.txt']"
      ]
     },
     "execution_count": 4,
     "metadata": {},
     "output_type": "execute_result"
    }
   ],
   "source": [
    " l = ['data'+str(s)+'.txt' for s in range(0,5)]\n",
    "l"
   ]
  },
  {
   "cell_type": "code",
   "execution_count": null,
   "metadata": {},
   "outputs": [],
   "source": []
  },
  {
   "cell_type": "code",
   "execution_count": null,
   "metadata": {},
   "outputs": [],
   "source": []
  },
  {
   "cell_type": "code",
   "execution_count": null,
   "metadata": {},
   "outputs": [],
   "source": []
  },
  {
   "cell_type": "code",
   "execution_count": null,
   "metadata": {},
   "outputs": [],
   "source": []
  },
  {
   "cell_type": "code",
   "execution_count": null,
   "metadata": {},
   "outputs": [],
   "source": []
  },
  {
   "cell_type": "markdown",
   "metadata": {},
   "source": [
    "Adivina aquí: stark aparecera de holograma en alguna pelicula de marvel"
   ]
  },
  {
   "cell_type": "markdown",
   "metadata": {},
   "source": [
    "Yo creo que...  que starke aarecera de holograma en una pelicula de marvel y que es para pasar de un archivo de texto plano a otro para analizar datos cambiando el nombre"
   ]
  },
  {
   "cell_type": "markdown",
   "metadata": {},
   "source": [
    "Ejecuta y ve si adivinaste, aquí:"
   ]
  },
  {
   "cell_type": "code",
   "execution_count": 5,
   "metadata": {},
   "outputs": [
    {
     "data": {
      "text/plain": [
       "['data0.txt', 'data1.txt', 'data2.txt', 'data3.txt', 'data4.txt']"
      ]
     },
     "execution_count": 5,
     "metadata": {},
     "output_type": "execute_result"
    }
   ],
   "source": [
    "l = ['data'+str(s)+'.txt' for s in range(0,5)]\n",
    "l"
   ]
  },
  {
   "cell_type": "markdown",
   "metadata": {},
   "source": [
    "3.Guarda tu texto favorito dentro de la variable texto (e.g. mi texto favorito es  Le Regret d'Héraclite de J.L.B. por lo que tendría que hacer: texto = 'Yo, que tantos hombres he sido, no he sido nunca aquel en cuyo abrazo desfallecía Matilde Urbach.'). Escribe un programa que cuente el número de mayúsculas en texto y, ya que andas en eso, escribe otro que cuente el número de minúsculas y otro que cuente el número de números (Hint: no lo vimos en clase, pero literal Googlea cómo contar el número de mayúsculas con Python y encontrarás la respuesta) "
   ]
  },
  {
   "cell_type": "code",
   "execution_count": 6,
   "metadata": {},
   "outputs": [],
   "source": [
    "Texto= \"Si acaso volvi3ra a quererte, sería s0L0 para cogertE\""
   ]
  },
  {
   "cell_type": "code",
   "execution_count": 9,
   "metadata": {},
   "outputs": [
    {
     "name": "stdout",
     "output_type": "stream",
     "text": [
      "Mayusculas:  3\n"
     ]
    }
   ],
   "source": [
    "print(\"Mayusculas: \", sum(1 for c in Texto if c.isupper()))\n"
   ]
  },
  {
   "cell_type": "code",
   "execution_count": 10,
   "metadata": {},
   "outputs": [
    {
     "name": "stdout",
     "output_type": "stream",
     "text": [
      "Minusculas:  38\n"
     ]
    }
   ],
   "source": [
    "print(\"Minusculas: \", sum(1 for c in Texto if c.islower()))"
   ]
  },
  {
   "cell_type": "code",
   "execution_count": 13,
   "metadata": {},
   "outputs": [
    {
     "name": "stdout",
     "output_type": "stream",
     "text": [
      "Numeros:  3\n"
     ]
    }
   ],
   "source": [
    "print(\"Numeros: \", sum(1 for c in Texto if c.isdigit()))"
   ]
  },
  {
   "cell_type": "code",
   "execution_count": null,
   "metadata": {},
   "outputs": [],
   "source": []
  },
  {
   "cell_type": "markdown",
   "metadata": {},
   "source": [
    "4.Sea lista1 = [0, 1, 3, 4, 5] y lista2 = [5, 7, 0]. ¿Qué es lo que haría el código sorted([i for i in lista1 if i in lista2])?"
   ]
  },
  {
   "cell_type": "markdown",
   "metadata": {},
   "source": [
    "Define las listas aquí:"
   ]
  },
  {
   "cell_type": "code",
   "execution_count": 14,
   "metadata": {},
   "outputs": [],
   "source": [
    "lista1 = [0, 1, 3, 4, 5]"
   ]
  },
  {
   "cell_type": "code",
   "execution_count": 15,
   "metadata": {},
   "outputs": [],
   "source": [
    "lista2 = [5, 7, 0]"
   ]
  },
  {
   "cell_type": "markdown",
   "metadata": {},
   "source": [
    "Ejecuta y explica qué hizo:"
   ]
  },
  {
   "cell_type": "code",
   "execution_count": 16,
   "metadata": {},
   "outputs": [
    {
     "data": {
      "text/plain": [
       "[0, 5]"
      ]
     },
     "execution_count": 16,
     "metadata": {},
     "output_type": "execute_result"
    }
   ],
   "source": [
    "sorted([i for i in lista1 if i in lista2])"
   ]
  },
  {
   "cell_type": "markdown",
   "metadata": {},
   "source": [
    "Este comando hace... las organiza en orden ascendente a las cosas que esten en ambas lsitas"
   ]
  },
  {
   "cell_type": "markdown",
   "metadata": {},
   "source": [
    "5.Dada la lista1 del ejercicio anterior, escribe una línea de código que randomize los elementos de dicha lista (Hint: busca en la documentación de la librería Random de Python el método shuffle)."
   ]
  },
  {
   "cell_type": "code",
   "execution_count": 23,
   "metadata": {},
   "outputs": [
    {
     "data": {
      "text/plain": [
       "[4, 5, 1, 0, 3]"
      ]
     },
     "execution_count": 23,
     "metadata": {},
     "output_type": "execute_result"
    }
   ],
   "source": [
    "\n",
    "import random\n",
    "lista1 = [0, 1, 3, 4, 5]\n",
    "\n",
    "random.shuffle(lista1)\n",
    "lista1"
   ]
  },
  {
   "cell_type": "code",
   "execution_count": null,
   "metadata": {},
   "outputs": [],
   "source": []
  },
  {
   "cell_type": "code",
   "execution_count": null,
   "metadata": {},
   "outputs": [],
   "source": []
  },
  {
   "cell_type": "code",
   "execution_count": null,
   "metadata": {},
   "outputs": [],
   "source": []
  },
  {
   "cell_type": "markdown",
   "metadata": {},
   "source": [
    "6.Define la función potencia como $potencia(x) = x^{x}$ tanto con la palabra reservada *def* como con función lambda."
   ]
  },
  {
   "cell_type": "code",
   "execution_count": 24,
   "metadata": {},
   "outputs": [],
   "source": [
    "def potencia(x):\n",
    "    \n",
    "    return x**x\n",
    "    "
   ]
  },
  {
   "cell_type": "markdown",
   "metadata": {},
   "source": [
    "Prueba tu función tu potencia con x = 3 (i.e. ejecuta potencia(3))"
   ]
  },
  {
   "cell_type": "code",
   "execution_count": 25,
   "metadata": {},
   "outputs": [
    {
     "data": {
      "text/plain": [
       "27"
      ]
     },
     "execution_count": 25,
     "metadata": {},
     "output_type": "execute_result"
    }
   ],
   "source": [
    "potencia(3)"
   ]
  },
  {
   "cell_type": "markdown",
   "metadata": {},
   "source": [
    "Esribe la misma función usando lambda y pruébala con x = 3"
   ]
  },
  {
   "cell_type": "code",
   "execution_count": 27,
   "metadata": {},
   "outputs": [],
   "source": [
    "p=lambda x:x**x"
   ]
  },
  {
   "cell_type": "code",
   "execution_count": 28,
   "metadata": {},
   "outputs": [
    {
     "data": {
      "text/plain": [
       "27"
      ]
     },
     "execution_count": 28,
     "metadata": {},
     "output_type": "execute_result"
    }
   ],
   "source": [
    "p(3)"
   ]
  },
  {
   "cell_type": "markdown",
   "metadata": {},
   "source": [
    "7.¿Qué hace la función map() de Python?"
   ]
  },
  {
   "cell_type": "markdown",
   "metadata": {},
   "source": [
    "La función map... repite una funcion en las iteraciones"
   ]
  },
  {
   "cell_type": "markdown",
   "metadata": {},
   "source": [
    "8.Con n = 5 escribe un código que despliegue lo siguiente en la pantalla:"
   ]
  },
  {
   "cell_type": "raw",
   "metadata": {},
   "source": [
    "X___X\n",
    "_X_X_\n",
    "__X__\n",
    "_X_X_\n",
    "X___X"
   ]
  },
  {
   "cell_type": "code",
   "execution_count": 131,
   "metadata": {},
   "outputs": [],
   "source": [
    "n=5\n",
    "Vacio=\"_\"\n",
    "Lleno=\"X\"\n",
    "lista_general=[]"
   ]
  },
  {
   "cell_type": "code",
   "execution_count": 56,
   "metadata": {},
   "outputs": [
    {
     "name": "stdout",
     "output_type": "stream",
     "text": [
      "X\n",
      "X\n",
      "X\n",
      "X\n",
      "X\n"
     ]
    }
   ],
   "source": [
    "for i in range(0,n):\n",
    "    print (Lleno)"
   ]
  },
  {
   "cell_type": "markdown",
   "metadata": {},
   "source": [
    "Tu código también debe funcionar para n = 6 y, en ese caso, debe desplegar lo siguiente en la pantalla:"
   ]
  },
  {
   "cell_type": "code",
   "execution_count": 132,
   "metadata": {},
   "outputs": [
    {
     "name": "stdout",
     "output_type": "stream",
     "text": [
      "X___X\n",
      "_X_X_\n",
      "__X__\n",
      "_X_X_\n",
      "X___X\n"
     ]
    }
   ],
   "source": [
    " for i in range(0,n):\n",
    "    linea=\"\"   \n",
    "    \n",
    "    for a in range (0,n):\n",
    "        if a==0:lista_linea=[]\n",
    "        lista_linea.append(Vacio)\n",
    "       # print (\"iteracion a\", a)\n",
    "       # print (lista_linea)\n",
    "        \n",
    " \n",
    "       \n",
    "    lista_linea[i]=Lleno \n",
    "    lista_linea[-(i+1)]=Lleno\n",
    "    linea=linea.join(lista_linea)\n",
    "    print (linea)\n",
    "    #lista_general.append(linea)\n",
    "    #print(\"lista general: \",lista_general[i])\n"
   ]
  },
  {
   "cell_type": "raw",
   "metadata": {},
   "source": [
    "X____X\n",
    "_X__X_\n",
    "__XX__\n",
    "__XX__\n",
    "_X__X_\n",
    "X____X"
   ]
  },
  {
   "cell_type": "code",
   "execution_count": 127,
   "metadata": {},
   "outputs": [],
   "source": [
    "n=6"
   ]
  },
  {
   "cell_type": "code",
   "execution_count": 130,
   "metadata": {},
   "outputs": [
    {
     "name": "stdout",
     "output_type": "stream",
     "text": [
      "X____X\n",
      "_X__X_\n",
      "__XX__\n",
      "__XX__\n",
      "_X__X_\n",
      "X____X\n"
     ]
    }
   ],
   "source": [
    " for i in range(0,n):\n",
    "    linea=\"\"   \n",
    "    \n",
    "    for a in range (0,n):\n",
    "        if a==0:lista_linea=[]\n",
    "        lista_linea.append(Vacio)\n",
    "       # print (\"iteracion a\", a)\n",
    "       # print (lista_linea)\n",
    "        \n",
    " \n",
    "       \n",
    "    lista_linea[i]=Lleno \n",
    "    lista_linea[-(i+1)]=Lleno\n",
    "    linea=linea.join(lista_linea)\n",
    "    print (linea)\n",
    "    #lista_general.append(linea)\n",
    "    #print(\"lista general: \",lista_general[i])"
   ]
  },
  {
   "cell_type": "code",
   "execution_count": 1,
   "metadata": {
    "scrolled": true
   },
   "outputs": [
    {
     "name": "stdout",
     "output_type": "stream",
     "text": [
      "X_____________X\n",
      "_X___________X_\n",
      "__X_________X__\n",
      "___X_______X___\n",
      "____X_____X____\n",
      "_____X___X_____\n",
      "______X_X______\n",
      "_______X_______\n",
      "______X_X______\n",
      "_____X___X_____\n",
      "____X_____X____\n",
      "___X_______X___\n",
      "__X_________X__\n",
      "_X___________X_\n",
      "X_____________X\n"
     ]
    },
    {
     "data": {
      "text/plain": [
       "['eugenio es puto y no entiendo porque vergas tenia que hacerlo con map',\n",
       " 'eugenio es puto y no entiendo porque vergas tenia que hacerlo con map',\n",
       " 'eugenio es puto y no entiendo porque vergas tenia que hacerlo con map',\n",
       " 'eugenio es puto y no entiendo porque vergas tenia que hacerlo con map',\n",
       " 'eugenio es puto y no entiendo porque vergas tenia que hacerlo con map',\n",
       " 'eugenio es puto y no entiendo porque vergas tenia que hacerlo con map',\n",
       " 'eugenio es puto y no entiendo porque vergas tenia que hacerlo con map',\n",
       " 'eugenio es puto y no entiendo porque vergas tenia que hacerlo con map',\n",
       " 'eugenio es puto y no entiendo porque vergas tenia que hacerlo con map',\n",
       " 'eugenio es puto y no entiendo porque vergas tenia que hacerlo con map',\n",
       " 'eugenio es puto y no entiendo porque vergas tenia que hacerlo con map',\n",
       " 'eugenio es puto y no entiendo porque vergas tenia que hacerlo con map',\n",
       " 'eugenio es puto y no entiendo porque vergas tenia que hacerlo con map',\n",
       " 'eugenio es puto y no entiendo porque vergas tenia que hacerlo con map',\n",
       " 'eugenio es puto y no entiendo porque vergas tenia que hacerlo con map']"
      ]
     },
     "execution_count": 1,
     "metadata": {},
     "output_type": "execute_result"
    }
   ],
   "source": [
    "n=15\n",
    "Vacio=\"_\"\n",
    "Lleno=\"X\"\n",
    "lista_general=[]\n",
    "\n",
    "def FUNCION (i):\n",
    "    linea=\"\"\n",
    "    for a in range (0,n):\n",
    "        if a==0:lista_linea=[]\n",
    "        lista_linea.append(Vacio)\n",
    "        # print (\"iteracion a\", a)\n",
    "        # print (lista_linea)\n",
    "    lista_linea[i]=Lleno \n",
    "    lista_linea[-(i+1)]=Lleno\n",
    "    linea=linea.join(lista_linea)\n",
    "    print (linea)\n",
    "    return \"eugenio es puto y no entiendo porque vergas tenia que hacerlo con map\"\n",
    "    \n",
    "    \n",
    "list(map(FUNCION,range(0,n)))\n",
    "\n",
    "    \n",
    "\n"
   ]
  },
  {
   "cell_type": "code",
   "execution_count": null,
   "metadata": {},
   "outputs": [],
   "source": []
  }
 ],
 "metadata": {
  "kernelspec": {
   "display_name": "Python 3",
   "language": "python",
   "name": "python3"
  },
  "language_info": {
   "codemirror_mode": {
    "name": "ipython",
    "version": 3
   },
   "file_extension": ".py",
   "mimetype": "text/x-python",
   "name": "python",
   "nbconvert_exporter": "python",
   "pygments_lexer": "ipython3",
   "version": "3.7.3"
  }
 },
 "nbformat": 4,
 "nbformat_minor": 2
}
